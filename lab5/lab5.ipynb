{
 "cells": [
  {
   "cell_type": "code",
   "execution_count": 9,
   "id": "cf465f23-b259-4ced-84dc-e3758e8c49cd",
   "metadata": {},
   "outputs": [],
   "source": [
    "import pandas as pd\n",
    "import cv2\n",
    "import numpy as np\n",
    "import os"
   ]
  },
  {
   "cell_type": "markdown",
   "id": "71abd70e-0951-4eca-9cd2-9ef920c52060",
   "metadata": {},
   "source": [
    "<img src='ex/1.png' width=600, heigth=540>"
   ]
  },
  {
   "cell_type": "code",
   "execution_count": 300,
   "id": "00ca1f57-6eb7-4575-ab7e-32f54bb78f01",
   "metadata": {},
   "outputs": [],
   "source": [
    "N = ord('K') % 5 + 1"
   ]
  },
  {
   "cell_type": "markdown",
   "id": "4bc3485c-1ffd-4f98-b224-9cf25fc21624",
   "metadata": {},
   "source": [
    "<img src='ex/2-3.png' width=600, heigth=540>"
   ]
  },
  {
   "cell_type": "code",
   "execution_count": 302,
   "id": "77517de0-e4af-4e51-b6e6-d5b850b1d6c3",
   "metadata": {},
   "outputs": [
    {
     "name": "stdout",
     "output_type": "stream",
     "text": [
      "File: emma-watson2.jpg, size: 300x300, color: red, width: 2\n"
     ]
    }
   ],
   "source": [
    "filename = 'data/kr1.xlsx'\n",
    "df = pd.read_excel(filename)\n",
    "\n",
    "file_name = df.loc[N - 1, 'file name']\n",
    "image_size = df.loc[N - 1, 'image size']\n",
    "glasses_color = df.loc[N - 1, 'glasses color']\n",
    "line_width = int(df.loc[N - 1, 'line width'])\n",
    "\n",
    "print(f'File: {file_name}, size: {image_size}, color: {glasses_color}, width: {line_width}')"
   ]
  },
  {
   "cell_type": "markdown",
   "id": "87b88678-b217-4956-b667-ef660aba8be7",
   "metadata": {},
   "source": [
    "<img src='ex/4.png' width=600, heigth=540>"
   ]
  },
  {
   "cell_type": "code",
   "execution_count": 257,
   "id": "aa629d9f-ea4f-4caa-8317-b38e11c4c605",
   "metadata": {},
   "outputs": [],
   "source": [
    "color_dict = {\n",
    "    'cyan': (0, 255, 255),\n",
    "    'magenta': (255, 0, 255),\n",
    "    'yellow': (255, 255, 0),\n",
    "    'red': (255, 0, 0),\n",
    "    'blue': (0, 0, 255),\n",
    "    'green': (0, 255, 0)\n",
    "}\n",
    "\n",
    "def get_color(color_name):\n",
    "    return color_dict.get(color_name.lower(), (0, 0, 0))\n",
    "\n",
    "def get_size(size_str):\n",
    "    try:\n",
    "        width, height = map(int, size_str.lower().split('x'))\n",
    "        return (width, height)\n",
    "    except ValueError:\n",
    "        raise ValueError(\"Невірний формат розміру, спробуйте '300x300'.\")\n",
    "\n",
    "def add_glasses(image_path, output_size, glasses_color, line_width=3):\n",
    "\n",
    "    output_size = get_size(output_size)\n",
    "    \n",
    "    image = cv2.imread(image_path)\n",
    "    gray = cv2.cvtColor(image, cv2.COLOR_BGR2GRAY)\n",
    "    \n",
    "    # Завантаження Haar Cascade для обличчя та очей\n",
    "    face_cascade = cv2.CascadeClassifier('haarcascade_frontalface_default.xml')\n",
    "    eye_cascade = cv2.CascadeClassifier('haarcascade_eye.xml')\n",
    "    \n",
    "    # Знаходження облич на зображенні\n",
    "    faces = face_cascade.detectMultiScale(gray, scaleFactor=1.3, minNeighbors=5, minSize=(50, 50))\n",
    "    \n",
    "    if len(faces) == 0:\n",
    "        print(\"Обличчя не знайдено\")\n",
    "        return\n",
    "    \n",
    "    for (x, y, w, h) in faces:\n",
    "        roi_gray = gray[y:y + h, x:x + w]\n",
    "        roi_color = image[y:y + h, x:x + w]\n",
    "        \n",
    "        eyes = eye_cascade.detectMultiScale(roi_gray)\n",
    "        if len(eyes) < 2:\n",
    "            print(\"Не вдалося знайти два ока\")\n",
    "            continue\n",
    "        if(len(eyes) != 2):\n",
    "            eyes = sorted(eyes, key=lambda eye: (eye[1], eye[0]))\n",
    "        else:\n",
    "            eyes = sorted(eyes, key=lambda eye: (eye[0], eye[1]))\n",
    "        \n",
    "        eye1, eye2 = eyes[:2]\n",
    "        \n",
    "        eye1_center = (x + eye1[0] + eye1[2] // 2, y + eye1[1] + eye1[3] // 2)\n",
    "        eye2_center = (x + eye2[0] + eye2[2] // 2, y + eye2[1] + eye2[3] // 2)\n",
    "        \n",
    "        eye_distance = abs(eye2_center[0] - eye1_center[0])\n",
    "        radius = int(eye_distance * 0.3)\n",
    "        \n",
    "        color = get_color(glasses_color)\n",
    "        \n",
    "        # Малювання круглих окулярів\n",
    "        cv2.circle(image, eye1_center, radius, color, line_width)\n",
    "        cv2.circle(image, eye2_center, radius, color, line_width)\n",
    "        \n",
    "        # Додавання перенісся\n",
    "        bridge_start = (eye1_center[0] + radius, eye1_center[1])\n",
    "        bridge_end = (eye2_center[0] - radius, eye2_center[1])\n",
    "        cv2.line(image, bridge_start, bridge_end, color, line_width)\n",
    "        \n",
    "        # Додавання дужок окулярів\n",
    "        midpoint = ((eye1_center[0] + eye2_center[0]) // 2, (eye1_center[1] + eye2_center[1]) // 2)\n",
    "        \n",
    "        # Довжина дужок\n",
    "        hook_length = int(1.75 * radius)\n",
    "        ear_hook_left_end = (eye1_center[0] - hook_length, eye1_center[1] - radius // 2)\n",
    "        ear_hook_right_end = (eye2_center[0] + hook_length, eye2_center[1] - radius // 2)\n",
    "        \n",
    "        cv2.line(image, (eye1_center[0] - radius, eye1_center[1]), ear_hook_left_end, color, line_width)\n",
    "        cv2.line(image, (eye2_center[0] + radius, eye2_center[1]), ear_hook_right_end, color, line_width)\n",
    "\n",
    "    face_region = image[y:y + h, x:x + w]\n",
    "    resized_face = cv2.resize(face_region, output_size, interpolation=cv2.INTER_AREA)\n",
    "    \n",
    "    output_path = f'output/output_{os.path.basename(image_path)}'\n",
    "    cv2.imwrite(output_path, resized_face)\n",
    "    print(f\"Зображення збережено як {output_path}\")\n",
    "    cv2.imshow('img',resized_face)\n",
    "    cv2.waitKey(0)\n",
    "    cv2.destroyAllWindows()"
   ]
  },
  {
   "cell_type": "code",
   "execution_count": 296,
   "id": "6c1b7bcd-1dd5-4784-a8bc-f5ec5ade82e0",
   "metadata": {},
   "outputs": [
    {
     "name": "stdout",
     "output_type": "stream",
     "text": [
      "Зображення збережено як output/output_ron_wesley.jpg\n"
     ]
    }
   ],
   "source": [
    "path = f'data/images/{file_name}'\n",
    "add_glasses(path, image_size, glasses_color, line_width)"
   ]
  },
  {
   "cell_type": "code",
   "execution_count": null,
   "id": "bb503742-59aa-4391-b18a-128db07c2a9e",
   "metadata": {},
   "outputs": [],
   "source": []
  }
 ],
 "metadata": {
  "kernelspec": {
   "display_name": "Python 3 (ipykernel)",
   "language": "python",
   "name": "python3"
  },
  "language_info": {
   "codemirror_mode": {
    "name": "ipython",
    "version": 3
   },
   "file_extension": ".py",
   "mimetype": "text/x-python",
   "name": "python",
   "nbconvert_exporter": "python",
   "pygments_lexer": "ipython3",
   "version": "3.12.4"
  }
 },
 "nbformat": 4,
 "nbformat_minor": 5
}
