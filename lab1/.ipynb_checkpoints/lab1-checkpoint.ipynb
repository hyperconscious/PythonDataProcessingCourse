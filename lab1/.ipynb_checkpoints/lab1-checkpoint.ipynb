{
 "cells": [
  {
   "cell_type": "code",
   "execution_count": 13,
   "id": "10356312-2947-4e01-b4f9-b4a8c54c4c2e",
   "metadata": {},
   "outputs": [
    {
     "data": {
      "text/plain": [
       "5"
      ]
     },
     "execution_count": 13,
     "metadata": {},
     "output_type": "execute_result"
    }
   ],
   "source": [
    "N = ord(\"K\") % 3 + 1;\n",
    "N"
   ]
  },
  {
   "cell_type": "code",
   "execution_count": 9,
   "id": "31342505-e0d5-49e9-bfad-a41a0c50ce1c",
   "metadata": {},
   "outputs": [
    {
     "ename": "IndentationError",
     "evalue": "unindent does not match any outer indentation level (<string>, line 79)",
     "output_type": "error",
     "traceback": [
      "\u001b[1;36m  File \u001b[1;32m<string>:79\u001b[1;36m\u001b[0m\n\u001b[1;33m    plt.figure(figsize=(8, 16), dpi=100)  # Set size and resolution\u001b[0m\n\u001b[1;37m                                                                   ^\u001b[0m\n\u001b[1;31mIndentationError\u001b[0m\u001b[1;31m:\u001b[0m unindent does not match any outer indentation level\n"
     ]
    }
   ],
   "source": [
    "import csv\n",
    "import numpy as np\n",
    "import datetime # for task 5\n",
    "import matplotlib.pyplot as plt # for task 7\n",
    "\n",
    "def get_column_data(file, column):\n",
    "    try:\n",
    "        with open(file, newline='', encoding='utf-8') as csvfile:\n",
    "            reader = csv.DictReader(csvfile)\n",
    "            header = next(reader)\n",
    "            column_data = [int(row[column_name]) for row in reader if row[column_name]]\n",
    "            return np.array(column_data)\n",
    "    except FileNotFoundError:\n",
    "        print(f\"Error: The file {file} was not found.\")\n",
    "    except KeyError:\n",
    "        print(f\"Error: The column '{column}' was not found in the CSV file.\")    \n",
    "\n",
    "def get_summer_losses(filename, date_column, losses_column):\n",
    "    with open(filename, newline='', encoding='utf-8') as csvfile:\n",
    "        reader = csv.DictReader(csvfile)\n",
    "        first_loss = None\n",
    "        last_loss = None\n",
    "        \n",
    "        for row in reader:\n",
    "            date = datetime.datetime.strptime(row[date_column], '%Y-%m-%d')\n",
    "            if row[losses_column] and date.year == 2022 and 5 < date.month < 9:\n",
    "                current_loss = int(row[losses_column])\n",
    "                \n",
    "                if first_loss is None:\n",
    "                    first_loss = current_loss\n",
    "                last_loss = current_loss\n",
    "                \n",
    "        if first_loss is not None and last_loss is not None:\n",
    "            return first_loss - last_loss\n",
    "        else:\n",
    "            return None\n",
    "\n",
    "def get_summer_losses_by_day(filename, date_column, losses_column):\n",
    "    try:\n",
    "        with open(filename, newline='', encoding='utf-8') as csvfile:\n",
    "            reader = csv.DictReader(csvfile)\n",
    "            header = next(reader)\n",
    "            for row in reader:\n",
    "                date = datetime.datetime.strptime(row[date_column], '%Y-%m-%d')\n",
    "                if row[losses_column] and date.year == 2022 and 5 < date.month < 9:\n",
    "                    print(row[date_column], row[column_name])\n",
    "    except FileNotFoundError:\n",
    "        print(f\"Error: The file {file} was not found.\")\n",
    "    except KeyError:\n",
    "        print(f\"Error: The column '{column}' was not found in the CSV file.\")\n",
    "\n",
    "def plot_first_year_losses(filename, date_column, losses_column):\n",
    "    dates = []\n",
    "    losses = []\n",
    "\n",
    "    with open(filename, newline='', encoding='utf-8') as csvfile:\n",
    "        reader = csv.DictReader(csvfile)\n",
    "\n",
    "        previous_loss = None\n",
    "369\n",
    "368\n",
    "        for row in reader:\n",
    "            date = datetime.datetime.strptime(row[date_column], '%Y-%m-%d')\n",
    "            if (date - datetime.datetime(2022, 2, 24)).days <= 365:\n",
    "                if row[losses_column]:\n",
    "                    current_loss = int(row[losses_column])\n",
    "                    if previous_loss is None:\n",
    "                        previous_loss = current_loss\n",
    "                        continue\n",
    "                    daily_loss = previous_loss - current_loss  # Calculate daily losses\n",
    "                    if daily_loss < 0:  # If losses are less than 0, set to 0\n",
    "                        daily_loss = 0\n",
    "                    losses.append(daily_loss)\n",
    "                    previous_loss = current_loss  # Update previous losses\n",
    "                    dates.append(date)\n",
    "        losses.append(int(row[losses_column]))\n",
    "        dates.append(date)\n",
    "\n",
    "    # Plotting\n",
    "    plt.figure(figsize=(8, 16), dpi=100)  # Set size and resolution\n",
    "    plt.plot(dates, losses, linestyle='--', color='blue', label='Aircraft Losses')  # Dashed line\n",
    "    plt.title('Aircraft Losses in the First Year of the War')  # Title of the plot\n",
    "    plt.xlabel('Date')  # X-axis label\n",
    "    plt.ylabel('Number of Aircrafts')  # Y-axis label\n",
    "    plt.xticks(rotation=45)  # Rotate x-axis labels for better readability\n",
    "    plt.grid(color='gray', linestyle='--', linewidth=0.5)  # Adding grid\n",
    "    plt.legend()  # Adding legend\n",
    "    plt.tight_layout()  # Automatic layout adjustment\n",
    "    plt.savefig('losses_plot.png', format='png')  # Save the plot as a PNG file\n",
    "    plt.show()  # Display the plot\n",
    "\n",
    "filename = 'russia_losses_equipment.csv'\n",
    "column_name = 'aircraft'\n",
    "date_column = 'date'\n",
    "planes_losses = get_column_data(filename, column_name)\n",
    "\n",
    "# Task 3\n",
    "daily_losses = np.abs(np.diff(planes_losses, append=0))\n",
    "# Task 4\n",
    "top_3_losses = np.sort(daily_losses)[-3:]\n",
    "# Task 5\n",
    "summer_losses = get_summer_losses(filename, date_column, column_name)\n",
    "# Task 6\n",
    "average_last_300_days_losses = np.mean(daily_losses[300:])\n",
    "# Task 7\n",
    "plot_first_year_losses(filename, date_column, column_name)"
   ]
  },
  {
   "cell_type": "code",
   "execution_count": null,
   "id": "cdfcd131-7509-488e-83fc-4a5cda1a8a30",
   "metadata": {},
   "outputs": [],
   "source": []
  }
 ],
 "metadata": {
  "kernelspec": {
   "display_name": "Python 3 (ipykernel)",
   "language": "python",
   "name": "python3"
  },
  "language_info": {
   "codemirror_mode": {
    "name": "ipython",
    "version": 3
   },
   "file_extension": ".py",
   "mimetype": "text/x-python",
   "name": "python",
   "nbconvert_exporter": "python",
   "pygments_lexer": "ipython3",
   "version": "3.12.4"
  }
 },
 "nbformat": 4,
 "nbformat_minor": 5
}
