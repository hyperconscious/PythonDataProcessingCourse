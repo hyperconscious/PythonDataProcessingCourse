{
 "cells": [
  {
   "cell_type": "code",
   "execution_count": null,
   "id": "6396e866-0427-4d4d-91b3-2829ff3e6366",
   "metadata": {},
   "outputs": [],
   "source": [
    "n = 10\n",
    "N = (n + 4 ) % 5 + 1\n",
    "N"
   ]
  },
  {
   "cell_type": "markdown",
   "id": "a5e8c928-0d5b-4098-808c-6b6e92de69fa",
   "metadata": {},
   "source": [
    "<img src=\"./imgs/tasks.png\" alt=\"tasks\" width=\"400\" height=\"200\">"
   ]
  },
  {
   "cell_type": "code",
   "execution_count": 1,
   "id": "6c843edf-c84c-4a6a-8364-03ba1fb1e05c",
   "metadata": {},
   "outputs": [],
   "source": [
    "import pandas as pd\n",
    "import matplotlib.pyplot as plt\n",
    "\n",
    "filename = 'NationalNames.csv'\n",
    "df = pd.read_csv(filename)"
   ]
  },
  {
   "cell_type": "markdown",
   "id": "380ed8b0-d8ba-47bd-b174-3d8cb99f89b5",
   "metadata": {},
   "source": [
    "<img src=\"./imgs/task2.png\" alt=\"task2\" width=\"400\" height=\"200\">"
   ]
  },
  {
   "cell_type": "code",
   "execution_count": null,
   "id": "f3b0bc9e-5448-4815-8f5b-1995179b575b",
   "metadata": {},
   "outputs": [],
   "source": [
    "# task 2\n",
    "df.iloc[-8:]"
   ]
  },
  {
   "cell_type": "markdown",
   "id": "9f5b904e-fd66-4ebf-9065-7c714233ddc8",
   "metadata": {},
   "source": [
    "<img src=\"./imgs/task4.png\" alt=\"task4\" width=\"400\" height=\"200\">"
   ]
  },
  {
   "cell_type": "code",
   "execution_count": null,
   "id": "f52893a5-ae1b-4475-8992-8a14b233b57a",
   "metadata": {},
   "outputs": [],
   "source": [
    "# task 4\n",
    "\n",
    "df.describe()"
   ]
  },
  {
   "cell_type": "markdown",
   "id": "b830dd56-c24b-42ae-911a-d145856bf429",
   "metadata": {},
   "source": [
    "<img src=\"./imgs/task6.png\" alt=\"task6\" width=\"400\" height=\"200\">"
   ]
  },
  {
   "cell_type": "code",
   "execution_count": null,
   "id": "bac824b8-e0d7-406d-8096-cab8f739162e",
   "metadata": {},
   "outputs": [],
   "source": [
    "#task 6\n",
    "\n",
    "gender_name_counts = df.groupby('Gender').agg({'Name': 'nunique'})\n",
    "gender_name_counts"
   ]
  },
  {
   "cell_type": "markdown",
   "id": "13f3c374-801e-497e-9af2-d08b7792b051",
   "metadata": {},
   "source": [
    "<img src=\"./imgs/task7.png\" alt=\"task7\" width=\"400\" height=\"200\">"
   ]
  },
  {
   "cell_type": "code",
   "execution_count": null,
   "id": "bf0e7cba-58a9-431a-b859-87c5bfdceb4f",
   "metadata": {},
   "outputs": [],
   "source": [
    "# task 7\n",
    "\n",
    "df_2010 = df[df['Year'] == 2010]\n",
    "df_male_2010 = df_2010[df_2010['Gender'] == 'M']\n",
    "\n",
    "top_5_popular_male_names = df_male_2010.sort_values(by='Count', ascending=False).head(5)\n",
    "\n",
    "\n",
    "top_5_popular_male_names"
   ]
  },
  {
   "cell_type": "markdown",
   "id": "5e0a4375-0191-4293-ab62-ff4e5f445457",
   "metadata": {},
   "source": [
    "<img src=\"./imgs/task9.png\" alt=\"task9\" width=\"400\" height=\"200\">"
   ]
  },
  {
   "cell_type": "code",
   "execution_count": null,
   "id": "dd682449-f85b-459b-b38d-66bdfea33284",
   "metadata": {},
   "outputs": [],
   "source": [
    "# task 9\n",
    "\n",
    "min_count = df['Count'].min()\n",
    "min_count_records = df[df['Count'] == min_count]\n",
    "\n",
    "min_count_records.shape[0]"
   ]
  },
  {
   "cell_type": "markdown",
   "id": "7fae75db-d242-446e-ac9a-1d7abf839c8d",
   "metadata": {},
   "source": [
    "<img src=\"./imgs/task10.png\" alt=\"task10\" width=\"400\" height=\"200\">"
   ]
  },
  {
   "cell_type": "code",
   "execution_count": null,
   "id": "614238d9-4ec6-4537-8398-44779ed1de9d",
   "metadata": {},
   "outputs": [],
   "source": [
    "# task 10\n",
    "\n",
    "unique_names_by_year = df.groupby('Year').agg({'Name': 'nunique'})\n",
    "unique_names_by_year"
   ]
  },
  {
   "cell_type": "markdown",
   "id": "64e0aa22-f4ab-4fa9-b0a6-79ef6cf4bedd",
   "metadata": {},
   "source": [
    "<img src=\"./imgs/task15.png\" alt=\"task15\" width=\"400\" height=\"200\">"
   ]
  },
  {
   "cell_type": "code",
   "execution_count": null,
   "id": "0b08480d-4c0d-4928-9f85-d68733a9105f",
   "metadata": {},
   "outputs": [],
   "source": [
    "# task 15\n",
    "\n",
    "count_per_year = df.groupby('Year').agg({'Count': 'sum'})\n",
    "count_per_year"
   ]
  },
  {
   "cell_type": "markdown",
   "id": "9d1e4da4-a949-4602-a7d3-f899fb3b3a93",
   "metadata": {},
   "source": [
    "<img src=\"./imgs/task16.png\" alt=\"task16\" width=\"400\" height=\"200\">"
   ]
  },
  {
   "cell_type": "code",
   "execution_count": null,
   "id": "c49c0bac-c935-4014-8d28-8656354080c5",
   "metadata": {},
   "outputs": [],
   "source": [
    "# task 16\n",
    "\n",
    "children_per_year = df.groupby('Year')['Count'].sum()\n",
    "\n",
    "year_with_max_children = children_per_year.idxmax()\n",
    "year_with_max_children\n"
   ]
  },
  {
   "cell_type": "markdown",
   "id": "bb67a1da-5ffd-45e7-bd20-efe188ea60b0",
   "metadata": {},
   "source": [
    "<img src=\"./imgs/task17.png\" alt=\"task17\" width=\"400\" height=\"200\">"
   ]
  },
  {
   "cell_type": "code",
   "execution_count": null,
   "id": "47aef927-c443-467b-b6f6-3f1710ee4a13",
   "metadata": {},
   "outputs": [],
   "source": [
    "# task 17\n",
    "\n",
    "birth_rate = df.groupby(['Year', 'Gender']).agg({'Count': 'sum'}).unstack(fill_value=0)\n",
    "\n",
    "birth_rate"
   ]
  },
  {
   "cell_type": "code",
   "execution_count": null,
   "id": "96089c74-aac3-44fc-8770-3352ec30c6d9",
   "metadata": {},
   "outputs": [],
   "source": []
  },
  {
   "cell_type": "markdown",
   "id": "8ed274a4-8f98-4e2f-a67e-a560c525f691",
   "metadata": {},
   "source": [
    "<img src=\"./imgs/task18.png\" alt=\"task18\" width=\"400\" height=\"200\">"
   ]
  },
  {
   "cell_type": "code",
   "execution_count": null,
   "id": "1834a2da-7c3b-455d-8595-ae8a0bf69ed4",
   "metadata": {},
   "outputs": [],
   "source": [
    "# task 18\n",
    "\n",
    "birth_rate = df.groupby(['Year', 'Gender']).agg({'Count': 'sum'}).unstack(fill_value=0)\n",
    "years_with_more_girls = (birth_rate[('Count', 'F')] > birth_rate[('Count', 'M')]).sum()\n",
    "\n",
    "years_with_more_girls"
   ]
  },
  {
   "cell_type": "markdown",
   "id": "57dd8708-0be2-4002-89d1-7005c90c77fb",
   "metadata": {},
   "source": [
    "<img src=\"./imgs/task20.png\" alt=\"task20\" width=\"400\" height=\"200\">"
   ]
  },
  {
   "cell_type": "code",
   "execution_count": null,
   "id": "2331890c-04d3-4dc6-bbff-2a92de5a5869",
   "metadata": {},
   "outputs": [],
   "source": [
    "# task 20\n",
    "\n",
    "name_gender_count = df.groupby(['Name', 'Gender']).size().unstack()\n",
    "common_names = name_gender_count[(name_gender_count['F'] > 0) & (name_gender_count['M'] > 0)]\n",
    "common_names_count = common_names.shape[0]\n",
    "\n",
    "common_names_count"
   ]
  },
  {
   "cell_type": "markdown",
   "id": "3e339c3b-fe82-490e-adaa-11861e53ef9b",
   "metadata": {},
   "source": [
    "<img src=\"./imgs/task21.png\" alt=\"task21\" width=\"400\" height=\"200\">"
   ]
  },
  {
   "cell_type": "code",
   "execution_count": null,
   "id": "733b9ac7-09db-4161-90c6-111690d12538",
   "metadata": {},
   "outputs": [],
   "source": [
    "# task 21\n",
    "\n",
    "male_name_barbara = df[(df['Name'] == 'Barbara') & (df['Gender'] == 'M')]['Count'].sum()\n",
    "\n",
    "male_name_barbara"
   ]
  },
  {
   "cell_type": "markdown",
   "id": "a668fb37-6e77-4595-8c63-b84da886184d",
   "metadata": {},
   "source": [
    "<img src=\"./imgs/task22.png\" alt=\"task22\" width=\"400\" height=\"200\">"
   ]
  },
  {
   "cell_type": "code",
   "execution_count": null,
   "id": "ced601e2-5b5d-4196-9abe-0b5306d9d9b5",
   "metadata": {},
   "outputs": [],
   "source": [
    "# task 22\n",
    "\n",
    "min_year = df['Year'].min()\n",
    "max_year = df['Year'].max()\n",
    "\n",
    "year_difference = max_year - min_year + 1\n",
    "print(f'Спостереження проводилось {year_difference} років')"
   ]
  },
  {
   "cell_type": "markdown",
   "id": "4d99d829-d78b-4acc-ba7f-fc0c03f8a468",
   "metadata": {},
   "source": [
    "<img src=\"./imgs/task23.png\" alt=\"task23\" width=\"400\" height=\"200\">"
   ]
  },
  {
   "cell_type": "code",
   "execution_count": null,
   "id": "f4b46ff0-8c95-4c4d-9f3c-1e0ecf949951",
   "metadata": {},
   "outputs": [],
   "source": [
    "# task 23\n",
    "\n",
    "name_gender_year_count = df.groupby(['Year', 'Name', 'Gender']).agg({'Count': 'sum'}).unstack(fill_value=0)\n",
    "\n",
    "gender_neutral_names = name_gender_year_count[(name_gender_year_count['Count']['F'] > 0) & \n",
    "                                              (name_gender_year_count['Count']['M'] > 0)].copy()\n",
    "\n",
    "gender_neutral_names['Total_Count'] = gender_neutral_names['Count']['F'] + gender_neutral_names['Count']['M']\n",
    "\n",
    "unique_years = df['Year'].nunique()\n",
    "names_present_every_year = gender_neutral_names.groupby('Name').filter(lambda x: len(x) == unique_years)\n",
    "\n",
    "most_popular_gender_neutral_names_per_year = names_present_every_year.groupby('Year').apply(lambda x: x.loc[x['Total_Count'].idxmax()])\n",
    "\n",
    "most_popular_gender_neutral_names_per_year"
   ]
  },
  {
   "cell_type": "markdown",
   "id": "3b27237f-0239-4425-af77-aa6d9c29824f",
   "metadata": {},
   "source": [
    "<img src=\"./imgs/task24.png\" alt=\"task24\" width=\"400\" height=\"200\">"
   ]
  },
  {
   "cell_type": "code",
   "execution_count": null,
   "id": "256c12f1-369f-4ecb-afe2-61de0e1cf46f",
   "metadata": {},
   "outputs": [],
   "source": [
    "# task 24\n",
    "\n",
    "threshold = 160\n",
    "name_count = df.groupby(['Name']).agg({'Count': 'sum'})\n",
    "\n",
    "unpopular_names = name_count.sort_values(by='Count')\n",
    "\n",
    "unpopular_names = unpopular_names[unpopular_names['Count'] >= threshold]\n",
    "\n",
    "most_popular_unpopular_name = unpopular_names.iloc[0]  \n",
    "most_popular_unpopular_name\n"
   ]
  },
  {
   "cell_type": "markdown",
   "id": "08d63c07-1c35-4836-93b8-067cc83b4b4d",
   "metadata": {},
   "source": [
    "<img src=\"./imgs/task25.png\" alt=\"task25\" width=\"400\" height=\"200\">"
   ]
  },
  {
   "cell_type": "code",
   "execution_count": null,
   "id": "44c38d0f-45e9-4ebd-bcce-2ae398935449",
   "metadata": {},
   "outputs": [],
   "source": [
    "# task 25\n",
    "\n",
    "name_year_count = df.groupby(['Year', 'Name']).agg({'Count': 'sum'}).reset_index()\n",
    "filtered_names = name_year_count[name_year_count['Name'].isin(['John', 'Mary'])]\n",
    "\n",
    "pivot_table = filtered_names.pivot(index='Year', columns='Name', values='Count').fillna(0)\n",
    "\n",
    "plt.figure(figsize=(8, 8), dpi=100) \n",
    "plt.plot(pivot_table.index, pivot_table['John'], label='John')\n",
    "plt.plot(pivot_table.index, pivot_table['Mary'], label='Mary')\n",
    "\n",
    "\n",
    "plt.title('Распределение имен John и Mary по годам')\n",
    "plt.xlabel('Год')\n",
    "plt.ylabel('Количество')\n",
    "\n",
    "plt.legend()\n",
    "\n",
    "# Показываем график\n",
    "plt.show()\n"
   ]
  },
  {
   "cell_type": "markdown",
   "id": "34d17ced-5f36-4334-a375-7446da2bce10",
   "metadata": {},
   "source": [
    "<img src=\"./imgs/task26.png\" alt=\"task26\" width=\"400\" height=\"200\">"
   ]
  },
  {
   "cell_type": "code",
   "execution_count": null,
   "id": "12f42be0-dac2-45ff-959e-f0a33137fee2",
   "metadata": {},
   "outputs": [],
   "source": [
    "# task 26\n",
    "\n",
    "name_year_gender_count = df.groupby(['Year', 'Name', 'Gender']).agg({'Count': 'sum'}).reset_index()\n",
    "filtered_names = name_year_gender_count[\n",
    "    ((name_year_gender_count['Name'] == 'John') & (name_year_gender_count['Gender'] == 'M') |\n",
    "     (name_year_gender_count['Name'] == 'Mary') & (name_year_gender_count['Gender'] == 'F'))\n",
    "]\n",
    "\n",
    "pivot_table = filtered_names.pivot(index='Year', columns='Name', values='Count').fillna(0)\n",
    "\n",
    "plt.figure(figsize=(8, 8), dpi=100) \n",
    "plt.plot(pivot_table.index, pivot_table['John'], label='John (Мужской)')\n",
    "plt.plot(pivot_table.index, pivot_table['Mary'], label='Mary (Женский)')\n",
    "\n",
    "\n",
    "plt.title('Распределение имен John и Mary по годам')\n",
    "plt.xlabel('Год')\n",
    "plt.ylabel('Количество')\n",
    "\n",
    "plt.legend()\n",
    "\n",
    "# Показываем график\n",
    "plt.show()\n"
   ]
  },
  {
   "cell_type": "markdown",
   "id": "673d2f74-7e78-4a32-a68c-e4582782be2f",
   "metadata": {},
   "source": [
    "<img src=\"./imgs/task27.png\" alt=\"task27\" width=\"400\" height=\"200\">"
   ]
  },
  {
   "cell_type": "code",
   "execution_count": null,
   "id": "c411724d-dae7-4dac-a280-35fc5fbc2eed",
   "metadata": {},
   "outputs": [],
   "source": [
    "# task 27\n",
    "\n",
    "name_year_count = df.groupby(['Year', 'Name']).agg({'Count': 'sum'})\n",
    "\n",
    "unique_years = df['Year'].nunique()\n",
    "names_present_every_year = name_year_count.groupby('Name').filter(lambda x: len(x) == unique_years)\n",
    "\n",
    "most_popular_names_per_year = names_present_every_year.loc[names_present_every_year.groupby('Year')['Count'].idxmax()]\n",
    "most_popular_names_per_year\n"
   ]
  },
  {
   "cell_type": "code",
   "execution_count": null,
   "id": "c56f136e-7ea0-4a0a-9e49-23f8f25e68a8",
   "metadata": {},
   "outputs": [],
   "source": []
  }
 ],
 "metadata": {
  "kernelspec": {
   "display_name": "Python 3 (ipykernel)",
   "language": "python",
   "name": "python3"
  },
  "language_info": {
   "codemirror_mode": {
    "name": "ipython",
    "version": 3
   },
   "file_extension": ".py",
   "mimetype": "text/x-python",
   "name": "python",
   "nbconvert_exporter": "python",
   "pygments_lexer": "ipython3",
   "version": "3.12.4"
  }
 },
 "nbformat": 4,
 "nbformat_minor": 5
}
